{
 "cells": [
  {
   "cell_type": "code",
   "execution_count": 5,
   "id": "3db75578",
   "metadata": {},
   "outputs": [],
   "source": [
    "class Location:\n",
    "    def __init__(self, id, type, name=None):\n",
    "        self._id = id\n",
    "        self._type = type\n",
    "        self._name = name\n",
    "\n",
    "    # Getters and setters for all attributes\n",
    "    def get_id(self):\n",
    "        return self._id\n",
    "\n",
    "    def set_id(self, id):\n",
    "        self._id = id\n",
    "\n",
    "    def get_type(self):\n",
    "        return self._type\n",
    "\n",
    "    def set_type(self, type):\n",
    "        self._type = type\n",
    "\n",
    "    def get_name(self):\n",
    "        return self._name\n",
    "\n",
    "    def set_name(self, name):\n",
    "        self._name = name\n",
    "\n",
    "    # Method to get string representation of the object\n",
    "    def __str__(self):\n",
    "        return f\"ID: {self._id}, Type: {self._type}, Name: {self._name}\""
   ]
  },
  {
   "cell_type": "code",
   "execution_count": null,
   "id": "ce6b2699",
   "metadata": {},
   "outputs": [],
   "source": []
  },
  {
   "cell_type": "code",
   "execution_count": null,
   "id": "a9affb00",
   "metadata": {},
   "outputs": [],
   "source": []
  }
 ],
 "metadata": {
  "kernelspec": {
   "display_name": "Python 3 (ipykernel)",
   "language": "python",
   "name": "python3"
  },
  "language_info": {
   "codemirror_mode": {
    "name": "ipython",
    "version": 3
   },
   "file_extension": ".py",
   "mimetype": "text/x-python",
   "name": "python",
   "nbconvert_exporter": "python",
   "pygments_lexer": "ipython3",
   "version": "3.10.9"
  }
 },
 "nbformat": 4,
 "nbformat_minor": 5
}
