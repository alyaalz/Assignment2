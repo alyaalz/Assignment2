{
 "cells": [
  {
   "cell_type": "code",
   "execution_count": null,
   "id": "1dd7d2be",
   "metadata": {},
   "outputs": [],
   "source": [
    "class Ticket:\n",
    "    def __init__(self, id, type, date, price, exhibition=None, visitor=None, group_size=None):\n",
    "        self._id = id\n",
    "        self._type = type\n",
    "        self._date = date\n",
    "        self._price = price\n",
    "        self._exhibition = exhibition\n",
    "        self._visitor = visitor\n",
    "        self._group_size = group_size\n",
    "\n",
    "    # Getters and setters for all attributes\n",
    "    def get_id(self):\n",
    "        return self._id\n",
    "\n",
    "    def set_id(self, id):\n",
    "        self._id = id\n",
    "\n",
    "    def get_type(self):\n",
    "        return self._type\n",
    "\n",
    "    def set_type(self, type):\n",
    "        self._type = type\n",
    "\n",
    "    def get_date(self):\n",
    "        return self._date\n",
    "\n",
    "    def set_date(self, date):\n",
    "        self._date = date\n",
    "\n",
    "    def get_price(self):\n",
    "        return self._price\n",
    "\n",
    "    def set_price(self, price):\n",
    "        self._price = price\n",
    "\n",
    "    def get_exhibition(self):\n",
    "        return self._exhibition\n",
    "\n",
    "    def set_exhibition(self, exhibition):\n",
    "        self._exhibition = exhibition\n",
    "\n",
    "    def get_visitor(self):\n",
    "        return self._visitor\n",
    "\n",
    "    def set_visitor(self, visitor):\n",
    "        self._visitor = visitor\n",
    "\n",
    "    def get_group_size(self):\n",
    "        return self._group_size\n",
    "\n",
    "    def set_group_size(self, group_size):\n",
    "        self._group_size = group_size\n"
   ]
  }
 ],
 "metadata": {
  "kernelspec": {
   "display_name": "Python 3 (ipykernel)",
   "language": "python",
   "name": "python3"
  },
  "language_info": {
   "codemirror_mode": {
    "name": "ipython",
    "version": 3
   },
   "file_extension": ".py",
   "mimetype": "text/x-python",
   "name": "python",
   "nbconvert_exporter": "python",
   "pygments_lexer": "ipython3",
   "version": "3.10.9"
  }
 },
 "nbformat": 4,
 "nbformat_minor": 5
}
