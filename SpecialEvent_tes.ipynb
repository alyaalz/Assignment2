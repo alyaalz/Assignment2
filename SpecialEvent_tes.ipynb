{
 "cells": [
  {
   "cell_type": "code",
   "execution_count": 1,
   "id": "a02279ed",
   "metadata": {},
   "outputs": [
    {
     "name": "stdout",
     "output_type": "stream",
     "text": [
      "Running SpecialEvent test cases...\n",
      "Testing SpecialEvent getters:\n",
      "Event ID: 1\n",
      "Event Title: Music Festival\n",
      "Event Date: 2024-07-10\n",
      "Event Location: Central Park\n",
      "Event Ticket Price: 50\n",
      "Event Tickets: []\n",
      "\n",
      "Testing SpecialEvent setters:\n",
      "Event ID after setting: 2\n",
      "Event Title after setting: Food Fair\n",
      "Event Date after setting: 2024-08-15\n",
      "Event Location after setting: Downtown Square\n",
      "Event Ticket Price after setting: 20\n"
     ]
    }
   ],
   "source": [
    "from special_event import SpecialEvent\n",
    "\n",
    "def test_special_event():\n",
    "    # Create a SpecialEvent object\n",
    "    event = SpecialEvent(1, \"Music Festival\", \"2024-07-10\", \"Central Park\", 50)\n",
    "\n",
    "    # Test getters\n",
    "    print(\"Testing SpecialEvent getters:\")\n",
    "    print(\"Event ID:\", event.get_id())\n",
    "    print(\"Event Title:\", event.get_title())\n",
    "    print(\"Event Date:\", event.get_date())\n",
    "    print(\"Event Location:\", event.get_location())\n",
    "    print(\"Event Ticket Price:\", event.get_ticket_price())\n",
    "    print(\"Event Tickets:\", event.get_tickets())\n",
    "\n",
    "    # Test setters\n",
    "    print(\"\\nTesting SpecialEvent setters:\")\n",
    "    event.set_id(2)\n",
    "    event.set_title(\"Food Fair\")\n",
    "    event.set_date(\"2024-08-15\")\n",
    "    event.set_location(\"Downtown Square\")\n",
    "    event.set_ticket_price(20)\n",
    "    print(\"Event ID after setting:\", event.get_id())\n",
    "    print(\"Event Title after setting:\", event.get_title())\n",
    "    print(\"Event Date after setting:\", event.get_date())\n",
    "    print(\"Event Location after setting:\", event.get_location())\n",
    "    print(\"Event Ticket Price after setting:\", event.get_ticket_price())\n",
    "\n",
    "if __name__ == \"__main__\":\n",
    "    print(\"Running SpecialEvent test cases...\")\n",
    "    test_special_event()\n"
   ]
  },
  {
   "cell_type": "code",
   "execution_count": null,
   "id": "be1f1c9c",
   "metadata": {},
   "outputs": [],
   "source": []
  }
 ],
 "metadata": {
  "kernelspec": {
   "display_name": "Python 3 (ipykernel)",
   "language": "python",
   "name": "python3"
  },
  "language_info": {
   "codemirror_mode": {
    "name": "ipython",
    "version": 3
   },
   "file_extension": ".py",
   "mimetype": "text/x-python",
   "name": "python",
   "nbconvert_exporter": "python",
   "pygments_lexer": "ipython3",
   "version": "3.10.9"
  }
 },
 "nbformat": 4,
 "nbformat_minor": 5
}
