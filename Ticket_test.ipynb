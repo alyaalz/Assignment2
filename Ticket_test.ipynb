{
 "cells": [
  {
   "cell_type": "code",
   "execution_count": 2,
   "id": "04ce7a98",
   "metadata": {},
   "outputs": [
    {
     "name": "stdout",
     "output_type": "stream",
     "text": [
      "Running Ticket test cases...\n",
      "Testing Ticket getters:\n",
      "Ticket ID: 1\n",
      "Ticket Type: Regular\n",
      "Ticket Date: 2024-05-15\n",
      "Ticket Price: 20\n",
      "Ticket Exhibition: None\n",
      "Ticket Visitor: None\n",
      "Ticket Group Size: None\n",
      "\n",
      "Testing Ticket setters:\n",
      "Ticket ID after setting: 2\n",
      "Ticket Type after setting: VIP\n",
      "Ticket Date after setting: 2024-05-20\n",
      "Ticket Price after setting: 50\n",
      "Ticket Exhibition after setting: Modern Art Exhibition\n",
      "Ticket Visitor after setting: Ali\n",
      "Ticket Group Size after setting: 4\n"
     ]
    }
   ],
   "source": [
    "from ticket import Ticket\n",
    "\n",
    "def test_ticket():\n",
    "    # Create a Ticket object\n",
    "    ticket = Ticket(1, \"Regular\", \"2024-05-15\", 20)\n",
    "\n",
    "    # Test getters\n",
    "    print(\"Testing Ticket getters:\")\n",
    "    print(\"Ticket ID:\", ticket.get_id())\n",
    "    print(\"Ticket Type:\", ticket.get_type())\n",
    "    print(\"Ticket Date:\", ticket.get_date())\n",
    "    print(\"Ticket Price:\", ticket.get_price())\n",
    "    print(\"Ticket Exhibition:\", ticket.get_exhibition())\n",
    "    print(\"Ticket Visitor:\", ticket.get_visitor())\n",
    "    print(\"Ticket Group Size:\", ticket.get_group_size())\n",
    "\n",
    "    # Test setters\n",
    "    print(\"\\nTesting Ticket setters:\")\n",
    "    ticket.set_id(2)\n",
    "    ticket.set_type(\"VIP\")\n",
    "    ticket.set_date(\"2024-05-20\")\n",
    "    ticket.set_price(50)\n",
    "    ticket.set_exhibition(\"Modern Art Exhibition\")\n",
    "    ticket.set_visitor(\"Ali\")\n",
    "    ticket.set_group_size(4)\n",
    "    print(\"Ticket ID after setting:\", ticket.get_id())\n",
    "    print(\"Ticket Type after setting:\", ticket.get_type())\n",
    "    print(\"Ticket Date after setting:\", ticket.get_date())\n",
    "    print(\"Ticket Price after setting:\", ticket.get_price())\n",
    "    print(\"Ticket Exhibition after setting:\", ticket.get_exhibition())\n",
    "    print(\"Ticket Visitor after setting:\", ticket.get_visitor())\n",
    "    print(\"Ticket Group Size after setting:\", ticket.get_group_size())\n",
    "\n",
    "if __name__ == \"__main__\":\n",
    "    print(\"Running Ticket test cases...\")\n",
    "    test_ticket()\n"
   ]
  },
  {
   "cell_type": "code",
   "execution_count": null,
   "id": "3da795cd",
   "metadata": {},
   "outputs": [],
   "source": []
  }
 ],
 "metadata": {
  "kernelspec": {
   "display_name": "Python 3 (ipykernel)",
   "language": "python",
   "name": "python3"
  },
  "language_info": {
   "codemirror_mode": {
    "name": "ipython",
    "version": 3
   },
   "file_extension": ".py",
   "mimetype": "text/x-python",
   "name": "python",
   "nbconvert_exporter": "python",
   "pygments_lexer": "ipython3",
   "version": "3.10.9"
  }
 },
 "nbformat": 4,
 "nbformat_minor": 5
}
