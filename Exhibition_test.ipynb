{
 "cells": [
  {
   "cell_type": "code",
   "execution_count": 1,
   "id": "0d99dd99",
   "metadata": {},
   "outputs": [
    {
     "name": "stdout",
     "output_type": "stream",
     "text": [
      "Running Exhibition ticket test cases...\n",
      "Adding tickets to the exhibition:\n",
      "Tickets added successfully.\n",
      "\n",
      "Getting tickets from the exhibition:\n",
      "Ticket ID: 1\n",
      "Ticket Type: Regular\n",
      "Ticket Date: 2024-05-15\n",
      "Ticket Price: 20\n",
      "Ticket Exhibition: Modern Art Exhibition\n",
      "Ticket ID: 2\n",
      "Ticket Type: VIP\n",
      "Ticket Date: 2024-05-20\n",
      "Ticket Price: 50\n",
      "Ticket Exhibition: Modern Art Exhibition\n",
      "\n",
      "Removing a ticket from the exhibition:\n",
      "Ticket removed successfully.\n",
      "\n",
      "Getting tickets after removal:\n",
      "Ticket ID: 2\n"
     ]
    }
   ],
   "source": [
    "from exhibition import Exhibition\n",
    "from ticket import Ticket\n",
    "\n",
    "def test_exhibition_tickets():\n",
    "    # Create an Exhibition object\n",
    "    exhibition = Exhibition(1, \"Modern Art Exhibition\", \"2024-05-01\", \"2024-06-01\", \"Art Gallery\")\n",
    "\n",
    "    # Create Ticket objects\n",
    "    ticket1 = Ticket(1, \"Regular\", \"2024-05-15\", 20, exhibition)\n",
    "    ticket2 = Ticket(2, \"VIP\", \"2024-05-20\", 50, exhibition)\n",
    "\n",
    "    # Test adding tickets to the exhibition\n",
    "    print(\"Adding tickets to the exhibition:\")\n",
    "    exhibition.add_ticket(ticket1)\n",
    "    exhibition.add_ticket(ticket2)\n",
    "    print(\"Tickets added successfully.\")\n",
    "\n",
    "    # Test getting tickets from the exhibition\n",
    "    print(\"\\nGetting tickets from the exhibition:\")\n",
    "    tickets = exhibition.get_tickets()\n",
    "    for ticket in tickets:\n",
    "        print(\"Ticket ID:\", ticket.get_id())\n",
    "        print(\"Ticket Type:\", ticket.get_type())\n",
    "        print(\"Ticket Date:\", ticket.get_date())\n",
    "        print(\"Ticket Price:\", ticket.get_price())\n",
    "        print(\"Ticket Exhibition:\", ticket.get_exhibition().get_title())\n",
    "\n",
    "    # Test removing a ticket from the exhibition\n",
    "    print(\"\\nRemoving a ticket from the exhibition:\")\n",
    "    exhibition.remove_ticket(ticket1)\n",
    "    print(\"Ticket removed successfully.\")\n",
    "\n",
    "    # Test getting tickets after removal\n",
    "    print(\"\\nGetting tickets after removal:\")\n",
    "    remaining_tickets = exhibition.get_tickets()\n",
    "    for ticket in remaining_tickets:\n",
    "        print(\"Ticket ID:\", ticket.get_id())\n",
    "\n",
    "if __name__ == \"__main__\":\n",
    "    print(\"Running Exhibition ticket test cases...\")\n",
    "    test_exhibition_tickets()\n"
   ]
  },
  {
   "cell_type": "code",
   "execution_count": null,
   "id": "106e7c6a",
   "metadata": {},
   "outputs": [],
   "source": []
  }
 ],
 "metadata": {
  "kernelspec": {
   "display_name": "Python 3 (ipykernel)",
   "language": "python",
   "name": "python3"
  },
  "language_info": {
   "codemirror_mode": {
    "name": "ipython",
    "version": 3
   },
   "file_extension": ".py",
   "mimetype": "text/x-python",
   "name": "python",
   "nbconvert_exporter": "python",
   "pygments_lexer": "ipython3",
   "version": "3.10.9"
  }
 },
 "nbformat": 4,
 "nbformat_minor": 5
}
