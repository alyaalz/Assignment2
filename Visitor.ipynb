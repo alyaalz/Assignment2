{
 "cells": [
  {
   "cell_type": "code",
   "execution_count": null,
   "id": "7d3f55a4",
   "metadata": {},
   "outputs": [],
   "source": [
    "class Visitor:\n",
    "    def __init__(self, id, name, age, category, national_id=None, institute=None):\n",
    "        self._id = id\n",
    "        self._name = name\n",
    "        self._age = age\n",
    "        self._category = category\n",
    "        self._national_id = national_id\n",
    "        self._institute = institute\n",
    "        self._tickets = []\n",
    "\n",
    "    # Getters and setters for all attributes\n",
    "    def get_id(self):\n",
    "        return self._id\n",
    "\n",
    "    def set_id(self, id):\n",
    "        self._id = id\n",
    "\n",
    "    def get_name(self):\n",
    "        return self._name\n",
    "\n",
    "    def set_name(self, name):\n",
    "        self._name = name\n",
    "\n",
    "    def get_age(self):\n",
    "        return self._age\n",
    "\n",
    "    def set_age(self, age):\n",
    "        self._age = age\n",
    "\n",
    "    def get_category(self):\n",
    "        return self._category\n",
    "\n",
    "    def set_category(self, category):\n",
    "        self._category = category\n",
    "\n",
    "    def get_national_id(self):\n",
    "        return self._national_id\n",
    "\n",
    "    def set_national_id(self, national_id):\n",
    "        self._national_id = national_id\n",
    "\n",
    "    def get_institute(self):\n",
    "        return self._institute\n",
    "\n",
    "    def set_institute(self, institute):\n",
    "        self._institute = institute\n",
    "\n",
    "    def get_tickets(self):\n",
    "        return self._tickets\n",
    "\n",
    "    def add_ticket(self, ticket):\n",
    "        self._tickets.append(ticket)\n",
    "\n",
    "    def remove_ticket(self, ticket):\n",
    "        self._tickets.remove(ticket)\n"
   ]
  }
 ],
 "metadata": {
  "kernelspec": {
   "display_name": "Python 3 (ipykernel)",
   "language": "python",
   "name": "python3"
  },
  "language_info": {
   "codemirror_mode": {
    "name": "ipython",
    "version": 3
   },
   "file_extension": ".py",
   "mimetype": "text/x-python",
   "name": "python",
   "nbconvert_exporter": "python",
   "pygments_lexer": "ipython3",
   "version": "3.10.9"
  }
 },
 "nbformat": 4,
 "nbformat_minor": 5
}
