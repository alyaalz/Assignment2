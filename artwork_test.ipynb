{
 "cells": [
  {
   "cell_type": "code",
   "execution_count": 26,
   "id": "6b18f8e4",
   "metadata": {},
   "outputs": [
    {
     "name": "stdout",
     "output_type": "stream",
     "text": [
      "Running Artwork test cases...\n",
      "Testing Artwork getters:\n",
      "Artwork ID: 1\n",
      "Artwork Title: Mona Lisa\n",
      "Artwork Artist: Leonardo da Vinci\n",
      "Artwork Creation Date: 1503\n",
      "Artwork Historical Significance: Iconic portrait\n",
      "Artwork Location: ID: 1 Type: Mus Name: Louvre Museum\n",
      "\n",
      "Testing Artwork setters:\n",
      "Artwork ID after setting: 2\n",
      "Artwork Title after setting: The Starry Night\n",
      "Artwork Artist after setting: Vincent van Gogh\n",
      "Artwork Creation Date after setting: 1889\n",
      "Artwork Historical Significance after setting: Post-Impressionist masterpiece\n",
      "Artwork Location after setting: ID: 2 Type: outdoor_space Name: Central Park\n"
     ]
    }
   ],
   "source": [
    "from artwork import Artwork\n",
    "from location import Location\n",
    "\n",
    "def test_artwork():\n",
    "    \n",
    "    location = Location(id=1, type=\"Mus\", name=\"Louvre Museum\")\n",
    "    artwork = Artwork(1, \"Mona Lisa\", \"Leonardo da Vinci\", \"1503\", \"Iconic portrait\", location)\n",
    "\n",
    "    # Test getters\n",
    "    print(\"Testing Artwork getters:\")\n",
    "    print(\"Artwork ID:\", artwork.get_id())\n",
    "    print(\"Artwork Title:\", artwork.get_title())\n",
    "    print(\"Artwork Artist:\", artwork.get_artist())\n",
    "    print(\"Artwork Creation Date:\", artwork.get_creation_date())\n",
    "    print(\"Artwork Historical Significance:\", artwork.get_historical_significance())\n",
    "    print(\"Artwork Location:\", \"ID:\", location.get_id(),\"Type:\", location.get_type(),\"Name:\", location.get_name())\n",
    "  \n",
    "    # Test setters\n",
    "    print(\"\\nTesting Artwork setters:\")\n",
    "    artwork.set_id(2)\n",
    "    artwork.set_title(\"The Starry Night\")\n",
    "    artwork.set_artist(\"Vincent van Gogh\")\n",
    "    artwork.set_creation_date(\"1889\")\n",
    "    artwork.set_historical_significance(\"Post-Impressionist masterpiece\")\n",
    "    location2 = Location(id=2, type=\"outdoor_space\", name=\"Central Park\")\n",
    "    artwork.set_location(location2)\n",
    "    print(\"Artwork ID after setting:\", artwork.get_id())\n",
    "    print(\"Artwork Title after setting:\", artwork.get_title())\n",
    "    print(\"Artwork Artist after setting:\", artwork.get_artist())\n",
    "    print(\"Artwork Creation Date after setting:\", artwork.get_creation_date())\n",
    "    print(\"Artwork Historical Significance after setting:\", artwork.get_historical_significance())\n",
    "    print(\"Artwork Location after setting:\", \"ID:\", location2.get_id(),\"Type:\", location2.get_type(),\"Name:\", location2.get_name())\n",
    "\n",
    "if __name__ == \"__main__\":\n",
    "    print(\"Running Artwork test cases...\")\n",
    "    test_artwork()\n"
   ]
  },
  {
   "cell_type": "code",
   "execution_count": null,
   "id": "01e80dea",
   "metadata": {},
   "outputs": [],
   "source": []
  },
  {
   "cell_type": "code",
   "execution_count": null,
   "id": "0a4c7eba",
   "metadata": {},
   "outputs": [],
   "source": []
  },
  {
   "cell_type": "code",
   "execution_count": null,
   "id": "baef2b30",
   "metadata": {},
   "outputs": [],
   "source": []
  },
  {
   "cell_type": "code",
   "execution_count": null,
   "id": "663ac315",
   "metadata": {},
   "outputs": [],
   "source": []
  }
 ],
 "metadata": {
  "kernelspec": {
   "display_name": "Python 3 (ipykernel)",
   "language": "python",
   "name": "python3"
  },
  "language_info": {
   "codemirror_mode": {
    "name": "ipython",
    "version": 3
   },
   "file_extension": ".py",
   "mimetype": "text/x-python",
   "name": "python",
   "nbconvert_exporter": "python",
   "pygments_lexer": "ipython3",
   "version": "3.10.9"
  }
 },
 "nbformat": 4,
 "nbformat_minor": 5
}
