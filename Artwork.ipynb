{
 "cells": [
  {
   "cell_type": "code",
   "execution_count": null,
   "id": "6c5854ff",
   "metadata": {},
   "outputs": [],
   "source": [
    "class Artwork:\n",
    "    def __init__(self, id, title, artist, creation_date, historical_significance, location):\n",
    "        self._id = id\n",
    "        self._title = title\n",
    "        self._artist = artist\n",
    "        self._creation_date = creation_date\n",
    "        self._historical_significance = historical_significance\n",
    "        self._location = location\n",
    "\n",
    "    # Getters and setters for all attributes\n",
    "    def get_id(self):\n",
    "        return self._id\n",
    "    \n",
    "    def set_id(self, id):\n",
    "        self._id = id\n",
    "\n",
    "    def get_title(self):\n",
    "        return self._title\n",
    "\n",
    "    def set_title(self, title):\n",
    "        self._title = title\n",
    "\n",
    "    def get_artist(self):\n",
    "        return self._artist\n",
    "\n",
    "    def set_artist(self, artist):\n",
    "        self._artist = artist\n",
    "\n",
    "    def get_creation_date(self):\n",
    "        return self._creation_date\n",
    "\n",
    "    def set_creation_date(self, creation_date):\n",
    "        self._creation_date = creation_date\n",
    "\n",
    "    def get_historical_significance(self):\n",
    "        return self._historical_significance\n",
    "\n",
    "    def set_historical_significance(self, historical_significance):\n",
    "        self._historical_significance = historical_significance\n",
    "\n",
    "    def get_location(self):\n",
    "        return self._location\n",
    "\n",
    "    def set_location(self, location):\n",
    "        self._location = location\n"
   ]
  }
 ],
 "metadata": {
  "kernelspec": {
   "display_name": "Python 3 (ipykernel)",
   "language": "python",
   "name": "python3"
  },
  "language_info": {
   "codemirror_mode": {
    "name": "ipython",
    "version": 3
   },
   "file_extension": ".py",
   "mimetype": "text/x-python",
   "name": "python",
   "nbconvert_exporter": "python",
   "pygments_lexer": "ipython3",
   "version": "3.10.9"
  }
 },
 "nbformat": 4,
 "nbformat_minor": 5
}
