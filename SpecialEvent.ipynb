{
 "cells": [
  {
   "cell_type": "code",
   "execution_count": null,
   "id": "3d77b329",
   "metadata": {},
   "outputs": [],
   "source": [
    "class SpecialEvent:\n",
    "    def __init__(self, id, title, date, location, ticket_price):\n",
    "        self._id = id\n",
    "        self._title = title\n",
    "        self._date = date\n",
    "        self._location = location\n",
    "        self._ticket_price = ticket_price\n",
    "        self._tickets = []\n",
    "\n",
    "    # Getters and setters for all attributes\n",
    "    def get_id(self):\n",
    "        return self._id\n",
    "\n",
    "    def set_id(self, id):\n",
    "        self._id = id\n",
    "\n",
    "    def get_title(self):\n",
    "        return self._title\n",
    "\n",
    "    def set_title(self, title):\n",
    "        self._title = title\n",
    "\n",
    "    def get_date(self):\n",
    "        return self._date\n",
    "\n",
    "    def set_date(self, date):\n",
    "        self._date = date\n",
    "\n",
    "    def get_location(self):\n",
    "        return self._location\n",
    "\n",
    "    def set_location(self, location):\n",
    "        self._location = location\n",
    "\n",
    "    def get_ticket_price(self):\n",
    "        return self._ticket_price\n",
    "\n",
    "    def set_ticket_price(self, ticket_price):\n",
    "        self._ticket_price = ticket_price\n",
    "\n",
    "    def get_tickets(self):\n",
    "        return self._tickets\n",
    "\n",
    "    def add_ticket(self, ticket):\n",
    "        self._tickets.append(ticket)\n",
    "\n",
    "    def remove_ticket(self, ticket):\n",
    "        self._tickets.remove(ticket)\n"
   ]
  }
 ],
 "metadata": {
  "kernelspec": {
   "display_name": "Python 3 (ipykernel)",
   "language": "python",
   "name": "python3"
  },
  "language_info": {
   "codemirror_mode": {
    "name": "ipython",
    "version": 3
   },
   "file_extension": ".py",
   "mimetype": "text/x-python",
   "name": "python",
   "nbconvert_exporter": "python",
   "pygments_lexer": "ipython3",
   "version": "3.10.9"
  }
 },
 "nbformat": 4,
 "nbformat_minor": 5
}
